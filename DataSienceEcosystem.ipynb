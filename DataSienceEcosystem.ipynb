{
  "metadata": {
    "kernelspec": {
      "name": "python",
      "display_name": "Python (Pyodide)",
      "language": "python"
    },
    "language_info": {
      "codemirror_mode": {
        "name": "python",
        "version": 3
      },
      "file_extension": ".py",
      "mimetype": "text/x-python",
      "name": "python",
      "nbconvert_exporter": "python",
      "pygments_lexer": "ipython3",
      "version": "3.8"
    }
  },
  "nbformat_minor": 5,
  "nbformat": 4,
  "cells": [
    {
      "id": "c073b511-34f8-4e0c-8339-b95fed314055",
      "cell_type": "markdown",
      "source": "# Data Science Tools and Ecosystem",
      "metadata": {}
    },
    {
      "id": "a231d1a3-7043-4a87-bc98-4134e63ad385",
      "cell_type": "markdown",
      "source": "## Author:\nAlex V",
      "metadata": {}
    },
    {
      "id": "2f077914-856c-4abb-a335-976a7a6d882d",
      "cell_type": "markdown",
      "source": "In this notebook, Data Science Tools and Ecoystem are summarized.",
      "metadata": {}
    },
    {
      "id": "a91a5582-756c-468a-b6bf-e9cb75cac78f",
      "cell_type": "markdown",
      "source": "##### Objectives:\n* List popular lagauges for Data Science\n* List commonly used libraries for Data Science\n* List commonly used tools for Data Science",
      "metadata": {}
    },
    {
      "id": "1d5817f7-aa17-4f55-9c2f-7e9d740b7be1",
      "cell_type": "markdown",
      "source": "Some of the popular languages that Data Scientists use are:\n1. Python\n2. SQL\n3. R",
      "metadata": {}
    },
    {
      "id": "718c5e56-80ee-4659-bd31-d4c9f781ab8d",
      "cell_type": "markdown",
      "source": "Some of the commonly used libraries used by Data Scientists include:\n1. SciPy\n2. NumPy\n3. Pandas\n4. Matplotlib\n5. Seaborn",
      "metadata": {}
    },
    {
      "id": "faddf390-e105-432b-b8be-2efb6877aede",
      "cell_type": "markdown",
      "source": "|Data Science Tools|\n|--------------------|\n|Jupyter Notebooks|\n|GitHub|\n|MySQL|",
      "metadata": {}
    },
    {
      "id": "c0818fd0-6e20-48e8-965f-c3a0cb343b3c",
      "cell_type": "markdown",
      "source": "### Below are a few examples of evaluating arithmetic expressions in Python:",
      "metadata": {}
    },
    {
      "id": "075f59bc-03cd-467a-bb1e-bb27b6df2517",
      "cell_type": "code",
      "source": "# This is a simple arithmetic expression to multiply then add integers.\n(3*4)+5",
      "metadata": {
        "trusted": true
      },
      "outputs": [
        {
          "execution_count": 2,
          "output_type": "execute_result",
          "data": {
            "text/plain": "17"
          },
          "metadata": {}
        }
      ],
      "execution_count": 2
    },
    {
      "id": "ae190c12-f9e8-4c2e-9c9f-29b8c0ff22fd",
      "cell_type": "code",
      "source": "# This will convert 200 minutes to hours by dividing by 60.\nminutes = 200\nhours = minutes / 60\nprint (hours)",
      "metadata": {
        "trusted": true
      },
      "outputs": [
        {
          "name": "stdout",
          "output_type": "stream",
          "text": "3.3333333333333335\n"
        }
      ],
      "execution_count": 3
    },
    {
      "id": "dd1c5f61-f54c-4e0e-ad4b-4a23f0ebb626",
      "cell_type": "markdown",
      "source": "",
      "metadata": {}
    }
  ]
}